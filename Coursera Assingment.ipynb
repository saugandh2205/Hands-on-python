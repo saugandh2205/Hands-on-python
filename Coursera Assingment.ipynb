{
 "cells": [
  {
   "cell_type": "markdown",
   "id": "ddbd9948-b95a-4ae8-ba90-0b6a867e5d6f",
   "metadata": {},
   "source": [
    "                                          Coursera Final Assigment "
   ]
  },
  {
   "cell_type": "markdown",
   "id": "532a6b28-b739-48a1-a7e2-811eaccb0915",
   "metadata": {},
   "source": [
    "#Introduction \n",
    "\n",
    "In this notebook we will ruse some python basic library and do some hands on on Analytical Problem "
   ]
  },
  {
   "cell_type": "markdown",
   "id": "a6d03a25-9474-44a8-bdd7-313814baaaa4",
   "metadata": {},
   "source": [
    "let hava a look on some of the major data science language \n",
    "\n",
    "1. Julia\n",
    "2. r\n",
    "3. Python "
   ]
  },
  {
   "cell_type": "markdown",
   "id": "8c06a4ae-b4e1-4f44-ac3a-16fd24b1b7c9",
   "metadata": {},
   "source": [
    "Let have a look on some of the most used data science libraries  \n",
    "1. Pandas \n",
    "2. NumPy \n",
    "3. Matplotlib\n",
    "4. TensorFlow"
   ]
  },
  {
   "cell_type": "markdown",
   "id": "99dbae3c-b756-4642-887c-2bf976aeba81",
   "metadata": {},
   "source": [
    "Here are some commonly used tools in the field of data science:\n",
    "\n",
    "| Tool Name     | Purpose                                       | Description |\n",
    "|---------------|-----------------------------------------------|-------------|\n",
    "| Python        | General-purpose programming language           | Widely used for data analysis, machine learning, and scientific computing. |\n",
    "| R             | Statistical computing and graphics             | Preferred for statistical analysis and visualization in data science.      |\n",
    "| SQL           | Database management                            | Essential for querying and managing data stored in relational databases.   |\n",
    "| Pandas        | Data manipulation and analysis in Python       | Provides data structures and operations for manipulating numerical tables  |\n",
    "| NumPy         | Numerical computing in Python                  | Supports large, multi-dimensional arrays  with mathematical functions.     |\n",
    "| Matplotlib    | Data visualization in Python                   | Comprehensive library for creating static, animated, and interactive plots.|\n",
    "| TensorFlow    | Machine learning and deep learning framework   | Developed by Google for building and training neural network models.       |\n",
    "| PyTorch       | Deep learning framework                        | Popular for dynamic computational graph and ease of use in deep learning   |\n",
    "| Jupyter       | Interactive computing and data visualization   | Web-based application creating documents contain code,equations &  visualizations| |\n",
    "| Tableau       | Data visualization and analytics platform      | Allows users to create and share interactive dashboards and reports.           |\n",
    "| Spark         | Distributed computing system                   | Provides in-memory computing capabilities for big data processing.             |\n",
    "| Hadoop        | Distributed storage and processing framework   | Supports processing of large data sets in a distributed computing environment. |"
   ]
  },
  {
   "cell_type": "markdown",
   "id": "69fb854b-71f0-482e-b04b-819b724436b3",
   "metadata": {},
   "source": [
    "we can have multiple Arithimatic opertion in python \n",
    "Addition         : result = 5 + 3 = 7\n",
    "Subtraction      : result = 7 - 4  = 3\n",
    "Multiplication   : result = 6 * 2  = 12\n",
    "Division         : result = 10 / 3  = 3.3333\n",
    "Integer Division : result = 10 // 3  = 3\n",
    "Modulo           : result = 10 % 3 = 1"
   ]
  },
  {
   "cell_type": "code",
   "execution_count": 8,
   "id": "6b62c428-352d-4401-989a-7367ad6cfd71",
   "metadata": {},
   "outputs": [
    {
     "name": "stdout",
     "output_type": "stream",
     "text": [
      "Addition of two numer is 12 multiplication of two number 30\n"
     ]
    }
   ],
   "source": [
    "#addition of two Number and multiplication of two number \n",
    "\n",
    "Addition = 5 + 7 \n",
    "Multiplicatio = 6*5 \n",
    "\n",
    "print('Addition of two numer is ' + str(Addition) + ' multiplication of two number '+ str(Multiplicatio))\n"
   ]
  },
  {
   "cell_type": "code",
   "execution_count": 9,
   "id": "f9b8bde2-b6fd-44f1-92ca-bd55ddeee05e",
   "metadata": {},
   "outputs": [
    {
     "data": {
      "text/plain": [
       "2.5"
      ]
     },
     "execution_count": 9,
     "metadata": {},
     "output_type": "execute_result"
    }
   ],
   "source": [
    "# lets Suppose you 150 min and we need to convert in Hours \n",
    "\n",
    "time_min = 150 \n",
    "\n",
    "time_hrs = time_min/60 \n",
    "\n",
    "time_hrs"
   ]
  },
  {
   "cell_type": "code",
   "execution_count": null,
   "id": "f1395f69-2d57-4f9b-a2f3-a9842f4e710a",
   "metadata": {},
   "outputs": [],
   "source": []
  },
  {
   "cell_type": "markdown",
   "id": "02badc28-c49b-4216-90a3-773e9fbf56f3",
   "metadata": {},
   "source": [
    "Author : saugandh Jaiswal \n",
    "Data Enthusiast."
   ]
  }
 ],
 "metadata": {
  "kernelspec": {
   "display_name": "Python 3 (ipykernel)",
   "language": "python",
   "name": "python3"
  },
  "language_info": {
   "codemirror_mode": {
    "name": "ipython",
    "version": 3
   },
   "file_extension": ".py",
   "mimetype": "text/x-python",
   "name": "python",
   "nbconvert_exporter": "python",
   "pygments_lexer": "ipython3",
   "version": "3.11.7"
  }
 },
 "nbformat": 4,
 "nbformat_minor": 5
}
